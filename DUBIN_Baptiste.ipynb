{
 "cells": [
  {
   "cell_type": "code",
   "execution_count": 95,
   "metadata": {
    "collapsed": true
   },
   "outputs": [],
   "source": [
    "# DUBIN Baptiste\n",
    "\n",
    "from sklearn import datasets\n",
    "import numpy as np\n",
    "\n",
    "iris = datasets.load_iris()"
   ]
  },
  {
   "cell_type": "code",
   "execution_count": 96,
   "outputs": [],
   "source": [
    "# Code prof\n",
    "Ciris = np.c_[iris.data.reshape(len(iris.data), -1), iris.target.reshape(len(iris.target), -1)]\n",
    "np.random.seed(0)\n",
    "np.random.shuffle(Ciris)\n",
    "shuffledIrisData = Ciris[ :, :iris.data.size//len(iris.data)].reshape(iris.data.shape)\n",
    "shuffledIrisTarget = Ciris[ :, iris.data.size//len(iris.data) :].reshape(iris.target.shape)\n",
    "\n",
    "#print(shuffledIrisData)\n",
    "#print(\"#############################################\")\n",
    "#print(shuffledIrisTarget)\n",
    "\n",
    "# Apprentissage\n",
    "appIrisData = shuffledIrisData[0:100]\n",
    "appIrisTarget = shuffledIrisTarget[0:100]\n",
    "\n",
    "# Dev\n",
    "devIrisData = shuffledIrisData[100:130]\n",
    "devIrisTarget = shuffledIrisTarget[100:130]\n",
    "\n",
    "# Test\n",
    "testIrisData = shuffledIrisData[130:150]\n",
    "testIrisTarget = shuffledIrisTarget[130:150]\n",
    "\n",
    "#print(testIrisData)\n",
    "#print(\"#############################################\")\n",
    "#print(testIrisTarget)"
   ],
   "metadata": {
    "collapsed": false,
    "pycharm": {
     "name": "#%%\n"
    }
   }
  },
  {
   "cell_type": "code",
   "execution_count": 112,
   "outputs": [
    {
     "name": "stdout",
     "output_type": "stream",
     "text": [
      "Phase d'apprentissage\n",
      "#################################################################################\n",
      "proba de 0 = 0.31\n",
      "proba de 1 = 0.33\n",
      "proba de 2 = 0.36\n",
      "#################################################################################\n",
      "Moyennne : \n",
      " [[4.96129032 3.42903226 1.46451613 0.2483871 ]\n",
      " [5.91212121 2.78484848 4.27272727 1.33939394]\n",
      " [6.45555556 2.92777778 5.41944444 1.98888889]]\n",
      "#################################################################################\n",
      "Variance : \n",
      " [[0.36849009 0.4100354  0.19243767 0.10605334]\n",
      " [0.52246864 0.33083343 0.47583658 0.18189866]\n",
      " [0.55623451 0.29627315 0.43544358 0.28762851]]\n",
      "#################################################################################\n",
      "Vraissamblance : \n",
      " [[0.08040857 0.11631084 0.27120647 1.06970614]\n",
      " [0.06744296 0.14325457 0.0933151  0.29603754]\n",
      " [0.06176035 0.13625208 0.0735992  0.20053999]]\n",
      "#################################################################################\n",
      "A posteriori : \n",
      " [0.00271323 0.0002669  0.0001242 ]\n"
     ]
    }
   ],
   "source": [
    "print(\"Phase d'apprentissage\\n#################################################################################\")\n",
    "\n",
    "# Proba a priori\n",
    "print(f\"proba de 0 = {(np.count_nonzero(appIrisTarget == 0))/appIrisTarget.size}\")\n",
    "print(f\"proba de 1 = {(np.count_nonzero(appIrisTarget == 1))/appIrisTarget.size}\")\n",
    "print(f\"proba de 2 = {(np.count_nonzero(appIrisTarget == 2))/appIrisTarget.size}\")\n",
    "\n",
    "print(\"#################################################################################\")\n",
    "\n",
    "# Moyenne\n",
    "moy = np.ndarray((3,4))\n",
    "for i in range (3):\n",
    "    for j in range (4):\n",
    "        moy[i][j] = appIrisData[appIrisTarget==i][:,j].mean()\n",
    "print(f\"Moyennne : \\n {moy}\")\n",
    "\n",
    "print(\"#################################################################################\")\n",
    "var = np.ndarray((3,4))\n",
    "for i in range (3):\n",
    "    for j in range (4):\n",
    "        var[i][j] = np.sqrt(appIrisData[appIrisTarget==i][:,j].var(axis=0, ddof = 1))\n",
    "print(f\"Variance : \\n {var}\")\n",
    "\n",
    "print(\"#################################################################################\")\n",
    "\n",
    "def f(x, sigma, mu):\n",
    "    return (1/\n",
    "            (sigma*(np.sqrt(2*np.pi))))\\\n",
    "                *np.exp( (-1/2)*((x - mu)/\n",
    "                                 sigma)**2)\n",
    "\n",
    "vr = np.ndarray((3,4))\n",
    "for i in range (2):\n",
    "    for j in range (3):\n",
    "        for k in range (4):\n",
    "                vr[j][k] = f((np.count_nonzero(appIrisTarget == i)/appIrisTarget.size), moy[j][k], var[j][k])\n",
    "\n",
    "\n",
    "print(f\"Vraissamblance : \\n {vr}\")\n",
    "print(\"#################################################################################\")\n",
    "poster = np.ones(3)\n",
    "\n",
    "for i in range (3):\n",
    "    for j in range (4):\n",
    "        poster[i] *= vr[i][j]\n",
    "\n",
    "print(f\"A posteriori : \\n {poster}\")"
   ],
   "metadata": {
    "collapsed": false,
    "pycharm": {
     "name": "#%%\n"
    }
   }
  },
  {
   "cell_type": "code",
   "execution_count": 98,
   "outputs": [
    {
     "name": "stdout",
     "output_type": "stream",
     "text": [
      "Phase de développement\n"
     ]
    }
   ],
   "source": [
    "print(\"Phase de développement\")\n",
    "\n"
   ],
   "metadata": {
    "collapsed": false,
    "pycharm": {
     "name": "#%%\n"
    }
   }
  }
 ],
 "metadata": {
  "kernelspec": {
   "display_name": "Python 3",
   "language": "python",
   "name": "python3"
  },
  "language_info": {
   "codemirror_mode": {
    "name": "ipython",
    "version": 2
   },
   "file_extension": ".py",
   "mimetype": "text/x-python",
   "name": "python",
   "nbconvert_exporter": "python",
   "pygments_lexer": "ipython2",
   "version": "2.7.6"
  }
 },
 "nbformat": 4,
 "nbformat_minor": 0
}