{
 "cells": [
  {
   "cell_type": "code",
   "execution_count": 11,
   "metadata": {
    "collapsed": true
   },
   "outputs": [],
   "source": [
    "# DUBIN Baptiste\n",
    "\n",
    "from sklearn import datasets\n",
    "import numpy as np\n",
    "\n",
    "iris = datasets.load_iris()"
   ]
  },
  {
   "cell_type": "code",
   "execution_count": 71,
   "outputs": [
    {
     "name": "stdout",
     "output_type": "stream",
     "text": [
      "[[5.8 2.8 5.1 2.4]\n",
      " [6.  2.2 4.  1. ]\n",
      " [5.5 4.2 1.4 0.2]\n",
      " [7.3 2.9 6.3 1.8]\n",
      " [5.  3.4 1.5 0.2]\n",
      " [6.3 3.3 6.  2.5]\n",
      " [5.  3.5 1.3 0.3]\n",
      " [6.7 3.1 4.7 1.5]\n",
      " [6.8 2.8 4.8 1.4]\n",
      " [6.1 2.8 4.  1.3]\n",
      " [6.1 2.6 5.6 1.4]\n",
      " [6.4 3.2 4.5 1.5]\n",
      " [6.1 2.8 4.7 1.2]\n",
      " [6.5 2.8 4.6 1.5]\n",
      " [6.1 2.9 4.7 1.4]\n",
      " [4.9 3.6 1.4 0.1]\n",
      " [6.  2.9 4.5 1.5]\n",
      " [5.5 2.6 4.4 1.2]\n",
      " [4.8 3.  1.4 0.3]\n",
      " [5.4 3.9 1.3 0.4]\n",
      " [5.6 2.8 4.9 2. ]\n",
      " [5.6 3.  4.5 1.5]\n",
      " [4.8 3.4 1.9 0.2]\n",
      " [4.4 2.9 1.4 0.2]\n",
      " [6.2 2.8 4.8 1.8]\n",
      " [4.6 3.6 1.  0.2]\n",
      " [5.1 3.8 1.9 0.4]\n",
      " [6.2 2.9 4.3 1.3]\n",
      " [5.  2.3 3.3 1. ]\n",
      " [5.  3.4 1.6 0.4]\n",
      " [6.4 3.1 5.5 1.8]\n",
      " [5.4 3.  4.5 1.5]\n",
      " [5.2 3.5 1.5 0.2]\n",
      " [6.1 3.  4.9 1.8]\n",
      " [6.4 2.8 5.6 2.2]\n",
      " [5.2 2.7 3.9 1.4]\n",
      " [5.7 3.8 1.7 0.3]\n",
      " [6.  2.7 5.1 1.6]\n",
      " [5.9 3.  4.2 1.5]\n",
      " [5.8 2.6 4.  1.2]\n",
      " [6.8 3.  5.5 2.1]\n",
      " [4.7 3.2 1.3 0.2]\n",
      " [6.9 3.1 5.1 2.3]\n",
      " [5.  3.5 1.6 0.6]\n",
      " [5.4 3.7 1.5 0.2]\n",
      " [5.  2.  3.5 1. ]\n",
      " [6.5 3.  5.5 1.8]\n",
      " [6.7 3.3 5.7 2.5]\n",
      " [6.  2.2 5.  1.5]\n",
      " [6.7 2.5 5.8 1.8]\n",
      " [5.6 2.5 3.9 1.1]\n",
      " [7.7 3.  6.1 2.3]\n",
      " [6.3 3.3 4.7 1.6]\n",
      " [5.5 2.4 3.8 1.1]\n",
      " [6.3 2.7 4.9 1.8]\n",
      " [6.3 2.8 5.1 1.5]\n",
      " [4.9 2.5 4.5 1.7]\n",
      " [6.3 2.5 5.  1.9]\n",
      " [7.  3.2 4.7 1.4]\n",
      " [6.5 3.  5.2 2. ]\n",
      " [6.  3.4 4.5 1.6]\n",
      " [4.8 3.1 1.6 0.2]\n",
      " [5.8 2.7 5.1 1.9]\n",
      " [5.6 2.7 4.2 1.3]\n",
      " [5.6 2.9 3.6 1.3]\n",
      " [5.5 2.5 4.  1.3]\n",
      " [6.1 3.  4.6 1.4]\n",
      " [7.2 3.2 6.  1.8]\n",
      " [5.3 3.7 1.5 0.2]\n",
      " [4.3 3.  1.1 0.1]\n",
      " [6.4 2.7 5.3 1.9]\n",
      " [5.7 3.  4.2 1.2]\n",
      " [5.4 3.4 1.7 0.2]\n",
      " [5.7 4.4 1.5 0.4]\n",
      " [6.9 3.1 4.9 1.5]\n",
      " [4.6 3.1 1.5 0.2]\n",
      " [5.9 3.  5.1 1.8]\n",
      " [5.1 2.5 3.  1.1]\n",
      " [4.6 3.4 1.4 0.3]\n",
      " [6.2 2.2 4.5 1.5]\n",
      " [7.2 3.6 6.1 2.5]\n",
      " [5.7 2.9 4.2 1.3]\n",
      " [4.8 3.  1.4 0.1]\n",
      " [7.1 3.  5.9 2.1]\n",
      " [6.9 3.2 5.7 2.3]\n",
      " [6.5 3.  5.8 2.2]\n",
      " [6.4 2.8 5.6 2.1]\n",
      " [5.1 3.8 1.6 0.2]\n",
      " [4.8 3.4 1.6 0.2]\n",
      " [6.5 3.2 5.1 2. ]\n",
      " [6.7 3.3 5.7 2.1]\n",
      " [4.5 2.3 1.3 0.3]\n",
      " [6.2 3.4 5.4 2.3]\n",
      " [4.9 3.  1.4 0.2]\n",
      " [5.7 2.5 5.  2. ]\n",
      " [6.9 3.1 5.4 2.1]\n",
      " [4.4 3.2 1.3 0.2]\n",
      " [5.  3.6 1.4 0.2]\n",
      " [7.2 3.  5.8 1.6]\n",
      " [5.1 3.5 1.4 0.3]]\n"
     ]
    }
   ],
   "source": [
    "# Code prof\n",
    "Ciris = np.c_[iris.data.reshape(len(iris.data), -1), iris.target.reshape(len(iris.target), -1)]\n",
    "np.random.seed(0)\n",
    "np.random.shuffle(Ciris)\n",
    "shuffledIrisData = Ciris[ :, :iris.data.size//len(iris.data)].reshape(iris.data.shape)\n",
    "shuffledIrisTarget = Ciris[ :, iris.data.size//len(iris.data) :].reshape(iris.target.shape)\n",
    "\n",
    "#print(shuffledIrisData)\n",
    "#print(\"#############################################\")\n",
    "#print(shuffledIrisTarget)\n",
    "\n",
    "# Apprentissage\n",
    "appIrisData = shuffledIrisData[0:100]\n",
    "appIrisTarget = shuffledIrisTarget[0:100]\n",
    "\n",
    "# Dev\n",
    "devIrisData = shuffledIrisData[100:130]\n",
    "devIrisTarget = shuffledIrisTarget[100:130]\n",
    "\n",
    "# Test\n",
    "testIrisData = shuffledIrisData[130:150]\n",
    "testIrisTarget = shuffledIrisTarget[130:150]\n",
    "\n",
    "#print(testIrisData)\n",
    "#print(\"#############################################\")\n",
    "#print(testIrisTarget)"
   ],
   "metadata": {
    "collapsed": false,
    "pycharm": {
     "name": "#%%\n"
    }
   }
  },
  {
   "cell_type": "code",
   "execution_count": 83,
   "outputs": [
    {
     "name": "stdout",
     "output_type": "stream",
     "text": [
      "Phase d'apprentissage\n",
      "#################################################################################\n",
      "proba de 0 = 0.31\n",
      "proba de 1 = 0.33\n",
      "proba de 2 = 0.36\n",
      "#################################################################################\n",
      "Moyennne : \n",
      " [[4.96129032 3.42903226 1.46451613 0.2483871 ]\n",
      " [5.91212121 2.78484848 4.27272727 1.33939394]\n",
      " [6.45555556 2.92777778 5.41944444 1.98888889]]\n",
      "#################################################################################\n",
      "Variance : \n",
      " [[0.36849009 0.4100354  0.19243767 0.10605334]\n",
      " [0.52246864 0.33083343 0.47583658 0.18189866]\n",
      " [0.55623451 0.29627315 0.43544358 0.28762851]\n",
      " [       nan        nan        nan        nan]]\n",
      "#################################################################################\n",
      "#################################################################################\n",
      "A posteriori : \n",
      " [3.15385938e-247 0.00000000e+000 2.03721574e+002]\n",
      "#################################################################################\n"
     ]
    },
    {
     "name": "stderr",
     "output_type": "stream",
     "text": [
      "<ipython-input-83-199353758ef0>:21: RuntimeWarning: Degrees of freedom <= 0 for slice\n",
      "  var[i][j] = np.sqrt(appIrisData[appIrisTarget==i][:,j].var(axis=0, ddof = 1))\n",
      "/Users/b/opt/anaconda3/lib/python3.8/site-packages/numpy/core/_methods.py:221: RuntimeWarning: invalid value encountered in true_divide\n",
      "  arrmean = um.true_divide(arrmean, div, out=arrmean, casting='unsafe',\n",
      "/Users/b/opt/anaconda3/lib/python3.8/site-packages/numpy/core/_methods.py:253: RuntimeWarning: invalid value encountered in double_scalars\n",
      "  ret = ret.dtype.type(ret / rcount)\n"
     ]
    }
   ],
   "source": [
    "print(\"Phase d'apprentissage\\n#################################################################################\")\n",
    "\n",
    "# Proba a priori\n",
    "print(f\"proba de 0 = {(np.count_nonzero(appIrisTarget == 0))/appIrisTarget.size}\")\n",
    "print(f\"proba de 1 = {(np.count_nonzero(appIrisTarget == 1))/appIrisTarget.size}\")\n",
    "print(f\"proba de 2 = {(np.count_nonzero(appIrisTarget == 2))/appIrisTarget.size}\")\n",
    "\n",
    "print(\"#################################################################################\")\n",
    "\n",
    "# Moyenne\n",
    "moy = np.ndarray((3,4))\n",
    "for i in range (3):\n",
    "    for j in range (4):\n",
    "        moy[i][j] = appIrisData[appIrisTarget==i][:,j].mean()\n",
    "print(f\"Moyennne : \\n {moy}\")\n",
    "\n",
    "print(\"#################################################################################\")\n",
    "var = np.ndarray((4,4))\n",
    "for i in range (4):\n",
    "    for j in range (4):\n",
    "        var[i][j] = np.sqrt(appIrisData[appIrisTarget==i][:,j].var(axis=0, ddof = 1))\n",
    "print(f\"Variance : \\n {var}\")\n",
    "\n",
    "print(\"#################################################################################\")\n",
    "\n",
    "def f(v, m, e):\n",
    "    return ((1\n",
    "                / e * np.sqrt(2 * np.pi))\n",
    "                    * (np.exp((-1/2) * np.power((v - m)/ e, 2))))\n",
    "\n",
    "\n",
    "\n",
    "print(\"#################################################################################\")\n",
    "poster = np.ones(3)\n",
    "\n",
    "for i in range (3):\n",
    "    for j in range (4):\n",
    "        poster[i] *= vr[i][j]\n",
    "\n",
    "print(f\"A posteriori : \\n {poster}\")\n",
    "\n",
    "print(\"#################################################################################\")"
   ],
   "metadata": {
    "collapsed": false,
    "pycharm": {
     "name": "#%%\n"
    }
   }
  },
  {
   "cell_type": "code",
   "execution_count": null,
   "outputs": [],
   "source": [
    "print(\"Phase de développement\")\n",
    "\n"
   ],
   "metadata": {
    "collapsed": false,
    "pycharm": {
     "name": "#%%\n"
    }
   }
  }
 ],
 "metadata": {
  "kernelspec": {
   "display_name": "Python 3",
   "language": "python",
   "name": "python3"
  },
  "language_info": {
   "codemirror_mode": {
    "name": "ipython",
    "version": 2
   },
   "file_extension": ".py",
   "mimetype": "text/x-python",
   "name": "python",
   "nbconvert_exporter": "python",
   "pygments_lexer": "ipython2",
   "version": "2.7.6"
  }
 },
 "nbformat": 4,
 "nbformat_minor": 0
}