{
 "cells": [
  {
   "cell_type": "markdown",
   "source": [
    "DUBIN Baptiste"
   ],
   "metadata": {
    "collapsed": false
   }
  },
  {
   "cell_type": "code",
   "execution_count": 1,
   "metadata": {
    "collapsed": true
   },
   "outputs": [],
   "source": [
    "# DUBIN Baptiste\n",
    "\n",
    "from sklearn import datasets\n",
    "import numpy as np\n",
    "\n",
    "iris = datasets.load_iris()"
   ]
  },
  {
   "cell_type": "markdown",
   "source": [
    "1) Récupération de la Base de Donnée Iris et partitionement des élément pour crée le corpus"
   ],
   "metadata": {
    "collapsed": false
   }
  },
  {
   "cell_type": "code",
   "execution_count": 2,
   "outputs": [],
   "source": [
    "# Code prof\n",
    "Ciris = np.c_[iris.data.reshape(len(iris.data), -1), iris.target.reshape(len(iris.target), -1)]\n",
    "np.random.seed(0)\n",
    "np.random.shuffle(Ciris)\n",
    "shuffledIrisData = Ciris[ :, :iris.data.size//len(iris.data)].reshape(iris.data.shape)\n",
    "shuffledIrisTarget = Ciris[ :, iris.data.size//len(iris.data) :].reshape(iris.target.shape)\n",
    "\n",
    "# Apprentissage\n",
    "appIrisData = shuffledIrisData[0:100]\n",
    "appIrisTarget = shuffledIrisTarget[0:100]\n",
    "\n",
    "# Dev\n",
    "devIrisData = shuffledIrisData[100:130]\n",
    "devIrisTarget = shuffledIrisTarget[100:130]\n",
    "\n",
    "# Test\n",
    "testIrisData = shuffledIrisData[130:150]\n",
    "testIrisTarget = shuffledIrisTarget[130:150]\n",
    "\n",
    "# Affichage des valeurs obtenues\n",
    "debug = True"
   ],
   "metadata": {
    "collapsed": false,
    "pycharm": {
     "name": "#%%\n"
    }
   }
  },
  {
   "cell_type": "markdown",
   "source": [
    "2) Phase d'apprentissage (Corpus d'apprentissage)\n",
    "    - Récupération des probabilité d'apparition de chaque classe\n",
    "    - Récupération des Moyennes et Variances de chaque caractéristique par classe\n",
    "    - Création de la fonction de densité de probabilité de la loi normale dans le but de calculer la vraisemblance a l'aide des Moyennes et Variances"
   ],
   "metadata": {
    "collapsed": false
   }
  },
  {
   "cell_type": "code",
   "execution_count": 3,
   "outputs": [
    {
     "name": "stdout",
     "output_type": "stream",
     "text": [
      "Proba de 0 : 0.31\n",
      "Proba de 1 : 0.33\n",
      "Proba de 2 : 0.36\n",
      "###############################################################################\n",
      "Moyennne : \n",
      "['sepal length (cm)', 'sepal width (cm)', 'petal length (cm)', 'petal width (cm)']\n",
      "setosa :\t [4.96129032 3.42903226 1.46451613 0.2483871 ]\n",
      "versicolor :\t [5.91212121 2.78484848 4.27272727 1.33939394]\n",
      "virginica :\t [6.45555556 2.92777778 5.41944444 1.98888889]\n",
      "--------------------------------------------------------------------------------\n",
      "Moyennne transposé : \n",
      "\t\t\t\t\t['setosa' 'versicolor' 'virginica']\n",
      "sepal length (cm) :\t [4.96129032 5.91212121 6.45555556]\n",
      "sepal width (cm) :\t [3.42903226 2.78484848 2.92777778]\n",
      "petal length (cm) :\t [1.46451613 4.27272727 5.41944444]\n",
      "petal width (cm) :\t [0.2483871  1.33939394 1.98888889]\n",
      "###############################################################################\n",
      "Variance : \n",
      "['sepal length (cm)', 'sepal width (cm)', 'petal length (cm)', 'petal width (cm)']\n",
      "setosa :\t [0.36849009 0.4100354  0.19243767 0.10605334]\n",
      "versicolor :\t [0.52246864 0.33083343 0.47583658 0.18189866]\n",
      "virginica :\t [0.55623451 0.29627315 0.43544358 0.28762851]\n"
     ]
    }
   ],
   "source": [
    "# Dimension des Features et Target de notre BDD\n",
    "nbCarac = 4\n",
    "nbClasse = 3\n",
    "\n",
    "# Probabilité d'apparition de chaque classe\n",
    "probabilite = np.zeros(nbClasse)\n",
    "for i in range(nbClasse):\n",
    "    probabilite[i] += (np.count_nonzero(appIrisTarget == i))/appIrisTarget.size\n",
    "    print(f\"Proba de {i} : {probabilite[i]}\") if debug else 0\n",
    "\n",
    "\n",
    "# Moyenne\n",
    "moyenne = np.ndarray((nbClasse,nbCarac))\n",
    "for i in range (nbClasse):\n",
    "    for j in range (nbCarac):\n",
    "        moyenne[i][j] = appIrisData[appIrisTarget==i][:,j].mean()\n",
    "\n",
    "# Affichage de la Moyenne pour debug\n",
    "if debug:\n",
    "    print(\"###############################################################################\")\n",
    "    print(f\"Moyennne : \\n{iris.feature_names}\")\n",
    "    for i in range(nbClasse):\n",
    "        print(iris.target_names[i], ':\\t',moyenne[i])\n",
    "\n",
    "# Affichage de la Moyenne transposé pour debug\n",
    "moyenne = np.transpose(moyenne)\n",
    "if debug:\n",
    "    print(\"--------------------------------------------------------------------------------\")\n",
    "    print(f\"Moyennne transposé : \\n\\t\\t\\t\\t\\t{iris.target_names}\")\n",
    "    for i in range(nbCarac):\n",
    "        print(iris.feature_names[i], ':\\t',moyenne[i])\n",
    "\n",
    "\n",
    "# Variance\n",
    "variance = np.ndarray((nbClasse,nbCarac))\n",
    "for i in range (nbClasse):\n",
    "    for j in range (nbCarac):\n",
    "        variance[i][j] = np.sqrt(appIrisData[appIrisTarget==i][:,j].var(axis=0, ddof = 1))\n",
    "\n",
    "# Affichage de la Variance pour debug\n",
    "if debug:\n",
    "    print(\"###############################################################################\")\n",
    "    print(f\"Variance : \\n{iris.feature_names}\")\n",
    "    for i in range(nbClasse):\n",
    "        print(iris.target_names[i], ':\\t',variance[i])\n",
    "\n",
    "\n",
    "# Fonction de densité de probabilité de la loi normale permettant de calculé la vraisemblance\n",
    "def f(z, var, moy):\n",
    "    return (1 /\n",
    "                (var * (np.sqrt(2 * np.pi)))) *\\\n",
    "                    (np.exp((-1 / 2) * ((z - moy) / var) ** 2))"
   ],
   "metadata": {
    "collapsed": false,
    "pycharm": {
     "name": "#%%\n"
    }
   }
  },
  {
   "cell_type": "markdown",
   "source": [
    "3) Phase de développement (Corpus de développement)\n",
    "    - Calcul de la vraisemblance\n",
    "    - Choix de la classe dont la probabilité a posteriori est supérieure à celles des autres classes\n",
    "    - Observation du nombre d'erreur de prédictions avec le modèle"
   ],
   "metadata": {
    "collapsed": false
   }
  },
  {
   "cell_type": "code",
   "execution_count": 4,
   "outputs": [
    {
     "name": "stdout",
     "output_type": "stream",
     "text": [
      "Phase de développement\n",
      "Vraisemblance : \n",
      " [[2.12822788e-01 6.11274341e-23 1.21346858e-20]\n",
      " [2.03280122e-01 1.87775705e-17 4.73088910e-17]\n",
      " [6.84079456e-06 2.90889390e-01 1.62501386e-03]\n",
      " [3.46211541e-15 1.25023245e-07 1.79394808e-01]\n",
      " [6.87442210e-20 1.77411350e-14 8.35927420e-03]\n",
      " [2.20847527e-01 1.70726861e-21 1.03780037e-19]\n",
      " [2.21886123e-01 4.25491567e-20 8.41966129e-19]\n",
      " [2.20847527e-01 1.70726861e-21 1.03780037e-19]\n",
      " [7.58823881e-08 3.31093972e-01 3.54922226e-02]\n",
      " [1.99162571e-07 4.05190980e-01 2.12856512e-02]\n",
      " [1.98566922e-01 1.95296244e-24 1.34598049e-21]\n",
      " [2.03280122e-01 1.87775705e-17 4.73088910e-17]\n",
      " [5.06101526e-07 4.42477994e-01 1.21097785e-02]\n",
      " [2.21886123e-01 4.25491567e-20 8.41966129e-19]\n",
      " [4.08786007e-22 3.73225619e-18 1.01835192e-03]\n",
      " [9.60532931e-04 2.02767569e-03 2.36527765e-06]\n",
      " [1.78188192e-18 2.83751678e-12 2.61312351e-02]\n",
      " [1.99162571e-07 4.05190980e-01 2.12856512e-02]\n",
      " [2.21886123e-01 4.25491567e-20 8.41966129e-19]\n",
      " [3.45716352e-09 9.11940014e-02 1.19907143e-01]\n",
      " [1.98566922e-01 1.95296244e-24 1.34598049e-21]\n",
      " [1.28635137e-20 1.18246421e-15 4.36833726e-03]\n",
      " [2.21886123e-01 4.25491567e-20 8.41966129e-19]\n",
      " [2.15839503e-01 9.46244727e-19 6.47993929e-18]\n",
      " [1.84529977e-16 2.44230329e-09 9.72441202e-02]\n",
      " [2.20847527e-01 1.70726861e-21 1.03780037e-19]\n",
      " [2.20788973e-13 1.94851218e-05 3.02653716e-01]\n",
      " [2.96610867e-06 3.74908885e-01 3.34596401e-03]\n",
      " [1.52752816e-05 2.01397206e-01 7.48666482e-04]\n",
      " [2.74885496e-04 1.48111856e-02 1.99053043e-05]]\n",
      "0 --> 0\n",
      "0 --> 0\n",
      "1 --> 1\n",
      "2 --> 2\n",
      "2 --> 2\n",
      "0 --> 0\n",
      "0 --> 0\n",
      "0 --> 0\n",
      "1 --> 1\n",
      "1 --> 1\n",
      "0 --> 0\n",
      "0 --> 0\n",
      "1 --> 1\n",
      "0 --> 0\n",
      "2 --> 2\n",
      "1 --> 1\n",
      "2 --> 2\n",
      "1 --> 1\n",
      "0 --> 0\n",
      "2 --> 2\n",
      "0 --> 0\n",
      "2 --> 2\n",
      "0 --> 0\n",
      "0 --> 0\n",
      "2 --> 2\n",
      "0 --> 0\n",
      "2 --> 2\n",
      "1 --> 1\n",
      "1 --> 1\n",
      "1 --> 1\n",
      "[+] Erreur =  0\n"
     ]
    }
   ],
   "source": [
    "print(\"Phase de développement\")\n",
    "\n",
    "# Calcul de la vraisemblance\n",
    "vraisemblance = np.ndarray((len(devIrisTarget), nbClasse)) # (30, 3)\n",
    "\n",
    "for i in range(len(devIrisTarget)):\n",
    "    for j in range(nbClasse):\n",
    "        for k in range(nbClasse):\n",
    "            vraisemblance[i][j] = f(devIrisData[i][k], variance[k][j], moyenne[k][j])\n",
    "        vraisemblance[i][j] *= probabilite[j]\n",
    "\n",
    "print(f\"Vraisemblance : \\n {vraisemblance}\") if debug else 0\n",
    "\n",
    "# Choix de la probabilité a posteriori la plus adéquate\n",
    "x = np.argmax(vraisemblance, axis=1)\n",
    "\n",
    "# Compte le nombre de différence entre prédiction et corpus de développement\n",
    "cpt = len([i for i, j in zip(x, devIrisTarget) if i != j])\n",
    "\n",
    "if debug:\n",
    "    for i in range(len(devIrisTarget)):\n",
    "        print(x[i], \"-->\", int(devIrisTarget[i])) if x[i] == devIrisTarget[i] else print(\"\\t\", x[i], \"-->\", int(devIrisTarget[i]))\n",
    "print(\"[+] Erreur = \", cpt)"
   ],
   "metadata": {
    "collapsed": false,
    "pycharm": {
     "name": "#%%\n"
    }
   }
  },
  {
   "cell_type": "markdown",
   "source": [
    "4) Phase de Test (Corpus de Test)\n",
    "    - Calcul de la vraisemblance\n",
    "    - Choix de la classe dont la probabilité a posteriori est supérieure à celles des autres classes\n",
    "    - Observation du nombre d'erreur de prédictions avec le modèle"
   ],
   "metadata": {
    "collapsed": false
   }
  },
  {
   "cell_type": "code",
   "execution_count": 5,
   "outputs": [
    {
     "name": "stdout",
     "output_type": "stream",
     "text": [
      "Phase de Test\n",
      "Vraisemblance : \n",
      " [[1.05264496e-11 1.08924658e-03 3.17644828e-01]\n",
      " [3.57802310e-11 3.31625098e-03 2.90490151e-01]\n",
      " [1.15745987e-09 4.72445190e-02 1.61909888e-01]\n",
      " [3.75193368e-10 2.18403707e-02 2.07394485e-01]\n",
      " [2.15839503e-01 9.46244727e-19 6.47993929e-18]\n",
      " [6.91264331e-05 6.85922116e-02 1.35655553e-04]\n",
      " [2.20788973e-13 1.94851218e-05 3.02653716e-01]\n",
      " [1.17751799e-10 9.00931954e-03 2.52009290e-01]\n",
      " [2.21886123e-01 4.25491567e-20 8.41966129e-19]\n",
      " [2.79922266e-08 2.41416080e-01 5.61403309e-02]\n",
      " [2.96610867e-06 3.74908885e-01 3.34596401e-03]\n",
      " [3.45716352e-09 9.11940014e-02 1.19907143e-01]\n",
      " [1.99162571e-07 4.05190980e-01 2.12856512e-02]\n",
      " [2.12822788e-01 6.11274341e-23 1.21346858e-20]\n",
      " [2.21886123e-01 4.25491567e-20 8.41966129e-19]\n",
      " [2.21886123e-01 4.25491567e-20 8.41966129e-19]\n",
      " [2.20788973e-13 1.94851218e-05 3.02653716e-01]\n",
      " [2.96610867e-06 3.74908885e-01 3.34596401e-03]\n",
      " [1.28635137e-20 1.18246421e-15 4.36833726e-03]\n",
      " [2.20847527e-01 1.70726861e-21 1.03780037e-19]]\n",
      "2 --> 2\n",
      "2 --> 2\n",
      "\t 2 --> 1\n",
      "\t 2 --> 1\n",
      "0 --> 0\n",
      "1 --> 1\n",
      "2 --> 2\n",
      "2 --> 2\n",
      "0 --> 0\n",
      "1 --> 1\n",
      "1 --> 1\n",
      "\t 2 --> 1\n",
      "1 --> 1\n",
      "0 --> 0\n",
      "0 --> 0\n",
      "0 --> 0\n",
      "2 --> 2\n",
      "1 --> 1\n",
      "2 --> 2\n",
      "0 --> 0\n",
      "[+] Erreur =  3\n"
     ]
    }
   ],
   "source": [
    "print(\"Phase de Test\")\n",
    "# Calcul de la vraisemblance\n",
    "vraisemblance = np.ndarray((len(testIrisTarget), nbClasse))\n",
    "\n",
    "for i in range(len(testIrisTarget)):\n",
    "    for j in range(nbClasse):\n",
    "        for k in range(nbClasse):\n",
    "            vraisemblance[i][j] = f(testIrisData[i][k], variance[k][j], moyenne[k][j])\n",
    "        vraisemblance[i][j] *= probabilite[j]\n",
    "\n",
    "print(f\"Vraisemblance : \\n {vraisemblance}\") if debug else 0\n",
    "\n",
    "# Choix de la probabilité a posteriori la plus adéquate\n",
    "x = np.argmax(vraisemblance, axis=1)\n",
    "\n",
    "# Compte le nombre de différence entre prédiction et corpus de test\n",
    "cpt = len([i for i, j in zip(x, testIrisTarget) if i != j])\n",
    "\n",
    "if debug:\n",
    "    for i in range(len(testIrisTarget)):\n",
    "        print(x[i], \"-->\", int(testIrisTarget[i])) if x[i] == testIrisTarget[i] else print(\"\\t\",x[i], \"-->\", int(testIrisTarget[i]))\n",
    "print(\"[+] Erreur = \", cpt)"
   ],
   "metadata": {
    "collapsed": false,
    "pycharm": {
     "name": "#%%\n"
    }
   }
  }
 ],
 "metadata": {
  "kernelspec": {
   "display_name": "Python 3",
   "language": "python",
   "name": "python3"
  },
  "language_info": {
   "codemirror_mode": {
    "name": "ipython",
    "version": 2
   },
   "file_extension": ".py",
   "mimetype": "text/x-python",
   "name": "python",
   "nbconvert_exporter": "python",
   "pygments_lexer": "ipython2",
   "version": "2.7.6"
  }
 },
 "nbformat": 4,
 "nbformat_minor": 0
}